{
 "cells": [
  {
   "cell_type": "markdown",
   "metadata": {},
   "source": [
    "# Tutorial\n",
    "\n",
    "## Setting up\n",
    "\n",
    "For this tutorial, we use a real dataset.\n",
    "The following bash script fetches the [Tycho dataset (v1.0)](https://www.tycho.pitt.edu/)\n",
    "and builds an SQLite database from it. If the SQL database has already been built, the script will fail with\n",
    "a harmless error message.\n",
    "\n",
    "That database is then used to illustrate how to use `tablecloth` in this tutorial.\n"
   ]
  },
  {
   "cell_type": "code",
   "execution_count": null,
   "metadata": {},
   "outputs": [],
   "source": []
  },
  {
   "cell_type": "code",
   "execution_count": 1,
   "metadata": {},
   "outputs": [
    {
     "name": "stdout",
     "output_type": "stream",
     "text": [
      "make: Nothing to be done for 'all'.\n"
     ]
    },
    {
     "name": "stderr",
     "output_type": "stream",
     "text": [
      "fatal: destination path 'project-tycho-utilities' already exists and is not an empty directory.\n"
     ]
    }
   ],
   "source": [
    "%%script bash\n",
    "git clone https://github.com/lgautier/project-tycho-utilities.git \n",
    "cd project-tycho-utilities/\n",
    "DBNAME=../tycho.db make all"
   ]
  },
  {
   "cell_type": "markdown",
   "metadata": {},
   "source": [
    "Once the previous cell has completed its execution, we open a database connection and will use it\n",
    "to evaluate SQL queries."
   ]
  },
  {
   "cell_type": "code",
   "execution_count": 2,
   "metadata": {},
   "outputs": [],
   "source": [
    "import sqlite3\n",
    "dbfilename = \"./tycho.db\"\n",
    "dbcon = sqlite3.connect(dbfilename)\n",
    "cursor = dbcon.cursor()"
   ]
  },
  {
   "cell_type": "markdown",
   "metadata": {},
   "source": [
    "## Using a query namespace (queryspace)\n",
    "\n",
    "The package `tablecloth` is offering an alternative to ORMs where the handling of SQL code is preferred\n",
    "(for example for legacy, or portability reasons).\n",
    "\n",
    "A query on our dataset could be a selection of locations of interest. The SQL query to select rows\n",
    "in the table `location` could then be like follows."
   ]
  },
  {
   "cell_type": "code",
   "execution_count": 3,
   "metadata": {},
   "outputs": [
    {
     "data": {
      "text/plain": [
       "<sqlite3.Cursor at 0x7f8a38e64500>"
      ]
     },
     "execution_count": 3,
     "metadata": {},
     "output_type": "execute_result"
    }
   ],
   "source": [
    "sql_locations = \"\"\"\n",
    "SELECT state, city\n",
    "FROM location\n",
    "WHERE\n",
    "  state LIKE 'M%'\n",
    "AND\n",
    "  city IS NOT NULL\n",
    "\"\"\"\n",
    "cursor.execute(sql_locations)"
   ]
  },
  {
   "cell_type": "markdown",
   "metadata": {},
   "source": [
    "Whenever exploring the content of a database, it is often desirable to quickly check a given\n",
    "query returns the expected results through summary statistics.\n",
    "\n",
    "Assuming that counting the number of cities for each selected state (here US states starting with the letter `M`)\n",
    "is that summary statistics, this could be done in Python as shown in the cell right below, but it is generally better to push\n",
    "that operation to the DBM."
   ]
  },
  {
   "cell_type": "code",
   "execution_count": 4,
   "metadata": {},
   "outputs": [
    {
     "name": "stdout",
     "output_type": "stream",
     "text": [
      "[('MA', 66), ('MI', 25), ('MN', 9), ('ME', 8), ('MO', 7)]\n"
     ]
    }
   ],
   "source": [
    "from collections import Counter\n",
    "ct = Counter(state for (state, city) in cursor)\n",
    "print(ct.most_common(n=5))"
   ]
  },
  {
   "cell_type": "markdown",
   "metadata": {},
   "source": [
    "If SQL should be written, one will often resort to using string formatting to reuse the previous query code."
   ]
  },
  {
   "cell_type": "code",
   "execution_count": 5,
   "metadata": {},
   "outputs": [
    {
     "data": {
      "text/plain": [
       "[('MA', 66), ('MI', 25), ('MN', 9), ('ME', 8), ('MO', 7)]"
      ]
     },
     "execution_count": 5,
     "metadata": {},
     "output_type": "execute_result"
    }
   ],
   "source": [
    "sql_count = \"\"\"\n",
    "SELECT\n",
    "  state,\n",
    "  COUNT(city) AS ct\n",
    "FROM\n",
    "  {select_locations}\n",
    "GROUP BY\n",
    "  state\n",
    "ORDER BY\n",
    "  ct DESC\n",
    "LIMIT 5\n",
    "\"\"\"\n",
    "cursor.execute(sql_count.format(select_locations='(%s)' % sql_locations))\n",
    "cursor.fetchall()"
   ]
  },
  {
   "cell_type": "markdown",
   "metadata": {},
   "source": [
    "The package `tablecloth` uses a \"query namespace\" (\"queryspace\" in short) to\n",
    "help with managing the construction of such queries.\n",
    "\n",
    "First, we can create a \"queryspace\"."
   ]
  },
  {
   "cell_type": "code",
   "execution_count": 6,
   "metadata": {},
   "outputs": [],
   "source": [
    "from tablecloth import queryspace\n",
    "\n",
    "space = queryspace.QuerySpace()"
   ]
  },
  {
   "cell_type": "markdown",
   "metadata": {},
   "source": [
    "We can then store our first query in the queryspace."
   ]
  },
  {
   "cell_type": "code",
   "execution_count": 7,
   "metadata": {},
   "outputs": [],
   "source": [
    "space['select_locations'] = queryspace.QueryTemplate(\n",
    "    'select_locations',\n",
    "     sql_locations)"
   ]
  },
  {
   "cell_type": "markdown",
   "metadata": {},
   "source": [
    "Now whenever we need the SQL code we can simply ask our queryspace to compile that SQL code."
   ]
  },
  {
   "cell_type": "code",
   "execution_count": 8,
   "metadata": {},
   "outputs": [
    {
     "name": "stdout",
     "output_type": "stream",
     "text": [
      "\n",
      "SELECT state, city\n",
      "FROM location\n",
      "WHERE\n",
      "  state LIKE 'M%'\n",
      "AND\n",
      "  city IS NOT NULL\n",
      "\n"
     ]
    }
   ],
   "source": [
    "print(space.compile('select_locations', {}))"
   ]
  },
  {
   "cell_type": "markdown",
   "metadata": {},
   "source": [
    "This is arguably pointless when we have one query in the query namespace,\n",
    "but the `tablecloth` will free the user from handling dependencies that can be\n",
    "specified through string formatting.\n",
    "\n",
    "We can add our second SQL query, where we compute counts, to the namespace."
   ]
  },
  {
   "cell_type": "code",
   "execution_count": 9,
   "metadata": {},
   "outputs": [],
   "source": [
    "sql_count = \"\"\"\n",
    "SELECT\n",
    "  state,\n",
    "  COUNT(city) AS ct\n",
    "FROM\n",
    "  {{select_locations}}\n",
    "GROUP BY\n",
    "  state\n",
    "ORDER BY\n",
    "  ct DESC\n",
    "LIMIT 5\n",
    "\"\"\"\n",
    "space['count_cities'] = queryspace.QueryTemplate(\n",
    "    'count_cities',\n",
    "    sql_count)"
   ]
  },
  {
   "cell_type": "markdown",
   "metadata": {},
   "source": [
    "When asking the queryspace to compile the SQL for that second query,\n",
    "we call `count_cities` in the queryspace, we will obtain SQL that includes dependencies."
   ]
  },
  {
   "cell_type": "code",
   "execution_count": 10,
   "metadata": {},
   "outputs": [
    {
     "name": "stdout",
     "output_type": "stream",
     "text": [
      "WITH select_locations AS (\n",
      "\n",
      "SELECT state, city\n",
      "FROM location\n",
      "WHERE\n",
      "  state LIKE 'M%'\n",
      "AND\n",
      "  city IS NOT NULL\n",
      ")\n",
      "\n",
      "\n",
      "SELECT\n",
      "  state,\n",
      "  COUNT(city) AS ct\n",
      "FROM\n",
      "  select_locations\n",
      "GROUP BY\n",
      "  state\n",
      "ORDER BY\n",
      "  ct DESC\n",
      "LIMIT 5\n",
      "\n"
     ]
    }
   ],
   "source": [
    "print(space.compile('count_cities', {}))"
   ]
  },
  {
   "cell_type": "markdown",
   "metadata": {},
   "source": [
    "The query returns the expected results."
   ]
  },
  {
   "cell_type": "code",
   "execution_count": 11,
   "metadata": {},
   "outputs": [
    {
     "name": "stdout",
     "output_type": "stream",
     "text": [
      "[('MA', 66), ('MI', 25), ('MN', 9), ('ME', 8), ('MO', 7)]\n"
     ]
    }
   ],
   "source": [
    "cursor.execute(space.compile('count_cities', {}))\n",
    "print(cursor.fetchall())"
   ]
  },
  {
   "cell_type": "markdown",
   "metadata": {},
   "source": [
    "We can change the SQL for queries, and whenever these are dependencies\n",
    "for other queries updated SQL will be produced."
   ]
  },
  {
   "cell_type": "code",
   "execution_count": 12,
   "metadata": {},
   "outputs": [
    {
     "name": "stdout",
     "output_type": "stream",
     "text": [
      "[('AL', 5), ('AR', 4), ('AZ', 2), ('AK', 0), ('AS', 0)]\n"
     ]
    }
   ],
   "source": [
    "space['select_locations'] = queryspace.QueryTemplate(\n",
    "    'select_locations',\n",
    "    \"\"\"\n",
    "    SELECT state, city\n",
    "    FROM location\n",
    "    WHERE state LIKE 'A%'\n",
    "    \"\"\")\n",
    "cursor.execute(space.compile('count_cities', {}))\n",
    "print(cursor.fetchall())"
   ]
  },
  {
   "cell_type": "markdown",
   "metadata": {},
   "source": [
    "An arbitrary number of dependencies of SQL subqueries can be handled."
   ]
  },
  {
   "cell_type": "code",
   "execution_count": 13,
   "metadata": {},
   "outputs": [
    {
     "name": "stdout",
     "output_type": "stream",
     "text": [
      "WITH select_locations AS (\n",
      "\n",
      "    SELECT state, city\n",
      "    FROM location\n",
      "    WHERE state LIKE 'A%'\n",
      "    ),\n",
      "count_cities AS (\n",
      "\n",
      "SELECT\n",
      "  state,\n",
      "  COUNT(city) AS ct\n",
      "FROM\n",
      "  select_locations\n",
      "GROUP BY\n",
      "  state\n",
      "ORDER BY\n",
      "  ct DESC\n",
      "LIMIT 5\n",
      ")\n",
      "\n",
      "\n",
      "    SELECT state, city, ct\n",
      "    FROM\n",
      "    select_locations\n",
      "    INNER JOIN\n",
      "    count_cities\n",
      "    USING\n",
      "    (states)\n",
      "    \n"
     ]
    }
   ],
   "source": [
    "space['select_locations_with_count'] = queryspace.QueryTemplate(\n",
    "    'select_locations_with_count',\n",
    "    \"\"\"\n",
    "    SELECT state, city, ct\n",
    "    FROM\n",
    "    {{select_locations}}\n",
    "    INNER JOIN\n",
    "    {{count_cities}}\n",
    "    USING\n",
    "    (states)\n",
    "    \"\"\")\n",
    "print(space.compile('select_locations_with_count', {}))"
   ]
  },
  {
   "cell_type": "markdown",
   "metadata": {},
   "source": [
    "## Queryspaces can help manage collections of interdependent subqueries\n",
    "\n",
    "**NOTE: this is very much WIP. There is more to come.**\n",
    "\n",
    "The labels (query names) in a query space are easily accessible."
   ]
  },
  {
   "cell_type": "code",
   "execution_count": 14,
   "metadata": {},
   "outputs": [
    {
     "data": {
      "text/plain": [
       "{'count_cities', 'select_locations', 'select_locations_with_count'}"
      ]
     },
     "execution_count": 14,
     "metadata": {},
     "output_type": "execute_result"
    }
   ],
   "source": [
    "space.available_nodes"
   ]
  },
  {
   "cell_type": "markdown",
   "metadata": {},
   "source": [
    "The queryspace can also indicate whether there is a transitive dependency\n",
    "(direct or indirect dependency) between subqueries."
   ]
  },
  {
   "cell_type": "code",
   "execution_count": 15,
   "metadata": {},
   "outputs": [
    {
     "data": {
      "text/plain": [
       "True"
      ]
     },
     "execution_count": 15,
     "metadata": {},
     "output_type": "execute_result"
    }
   ],
   "source": [
    "space.find_in_dependencies('select_locations_with_count', 'count_cities')"
   ]
  },
  {
   "cell_type": "code",
   "execution_count": null,
   "metadata": {},
   "outputs": [],
   "source": []
  }
 ],
 "metadata": {
  "kernelspec": {
   "display_name": "Python 3",
   "language": "python",
   "name": "python3"
  },
  "language_info": {
   "codemirror_mode": {
    "name": "ipython",
    "version": 3
   },
   "file_extension": ".py",
   "mimetype": "text/x-python",
   "name": "python",
   "nbconvert_exporter": "python",
   "pygments_lexer": "ipython3",
   "version": "3.6.8"
  }
 },
 "nbformat": 4,
 "nbformat_minor": 4
}
