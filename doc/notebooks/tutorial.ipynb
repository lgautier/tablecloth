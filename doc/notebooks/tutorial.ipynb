{
 "cells": [
  {
   "cell_type": "code",
   "execution_count": 1,
   "metadata": {},
   "outputs": [],
   "source": [
    "from tablecloth import queryspace"
   ]
  },
  {
   "cell_type": "markdown",
   "metadata": {},
   "source": [
    "A `QuerySpace` handles the grouping of query elements."
   ]
  },
  {
   "cell_type": "code",
   "execution_count": 51,
   "metadata": {},
   "outputs": [],
   "source": [
    "qs = queryspace.QuerySpace()"
   ]
  },
  {
   "cell_type": "markdown",
   "metadata": {},
   "source": [
    "A `QueryTemplate` is a template for a query, or a subquery. Placeholders can be identified with `qs` (for `QuerySpace`), a dot, and the name of an other query element in the query space."
   ]
  },
  {
   "cell_type": "code",
   "execution_count": 52,
   "metadata": {},
   "outputs": [],
   "source": [
    "qs['count_users'] = queryspace.QueryTemplate(\n",
    "    \"\"\"\n",
    "    SELECT\n",
    "      COUNT(DISTINCT uid) AS n\n",
    "    FROM\n",
    "      {qs.relevant_transactions}\n",
    "    \"\"\"\n",
    ")"
   ]
  },
  {
   "cell_type": "code",
   "execution_count": 53,
   "metadata": {},
   "outputs": [
    {
     "name": "stdout",
     "output_type": "stream",
     "text": [
      "count_users: QueryTemplate\n",
      "relevant_transactions: Placeholder\n"
     ]
    }
   ],
   "source": [
    "for k, v in qs.items():\n",
    "    print(f'{k}: {type(v).__name__}')"
   ]
  },
  {
   "cell_type": "markdown",
   "metadata": {},
   "source": [
    "The query space will not be able to make a sql when there remain unspecified placeholders."
   ]
  },
  {
   "cell_type": "code",
   "execution_count": 55,
   "metadata": {},
   "outputs": [
    {
     "name": "stdout",
     "output_type": "stream",
     "text": [
      "UnspecifiedPlaceholder('relevant_transactions',)\n"
     ]
    }
   ],
   "source": [
    "try:\n",
    "    qs.make('count_users')\n",
    "except Exception as e:\n",
    "    print(repr(e))"
   ]
  },
  {
   "cell_type": "markdown",
   "metadata": {},
   "source": [
    "The placeholder can be specified when making the SQL query."
   ]
  },
  {
   "cell_type": "code",
   "execution_count": 39,
   "metadata": {},
   "outputs": [
    {
     "name": "stdout",
     "output_type": "stream",
     "text": [
      "\n",
      "    SELECT\n",
      "      COUNT(DISTINCT uid) AS n\n",
      "    FROM\n",
      "      transactions\n",
      "    \n"
     ]
    }
   ],
   "source": [
    "sql = qs.make('count_users',\n",
    "              relevant_transactions=queryspace.TableName('transactions'))\n",
    "print(sql)"
   ]
  },
  {
   "cell_type": "markdown",
   "metadata": {},
   "source": [
    "A query space can handle several query template, and work the dependencies from placeholders in the templates."
   ]
  },
  {
   "cell_type": "code",
   "execution_count": 42,
   "metadata": {},
   "outputs": [],
   "source": [
    "relevant_transactions = queryspace.QueryTemplate(\n",
    "    \"\"\"\n",
    "    SELECT\n",
    "      *\n",
    "    FROM\n",
    "      {qs.transactions_table}\n",
    "    \"\"\"\n",
    ")"
   ]
  },
  {
   "cell_type": "code",
   "execution_count": 56,
   "metadata": {},
   "outputs": [
    {
     "name": "stdout",
     "output_type": "stream",
     "text": [
      "NameNotFoundError('transactions_table',)\n"
     ]
    }
   ],
   "source": [
    "try:\n",
    "    qs.make('count_users', relevant_transactions=relevant_transactions)\n",
    "except Exception as e:\n",
    "    print(repr(e))"
   ]
  },
  {
   "cell_type": "code",
   "execution_count": 45,
   "metadata": {},
   "outputs": [],
   "source": [
    "qs['relevant_transactions'] = relevant_transactions"
   ]
  },
  {
   "cell_type": "code",
   "execution_count": 57,
   "metadata": {},
   "outputs": [
    {
     "name": "stdout",
     "output_type": "stream",
     "text": [
      "UnspecifiedPlaceholder('relevant_transactions',)\n"
     ]
    }
   ],
   "source": [
    "try:\n",
    "    qs.make('count_users')\n",
    "except Exception as e:\n",
    "    print(repr(e))"
   ]
  },
  {
   "cell_type": "code",
   "execution_count": 49,
   "metadata": {},
   "outputs": [
    {
     "name": "stdout",
     "output_type": "stream",
     "text": [
      "WITH\n",
      "relevant_transactions AS (\n",
      "    SELECT\n",
      "      *\n",
      "    FROM\n",
      "      transactions\n",
      "    )\n",
      "\n",
      "    SELECT\n",
      "      COUNT(DISTINCT uid) AS n\n",
      "    FROM\n",
      "      relevant_transactions\n",
      "    \n"
     ]
    }
   ],
   "source": [
    "sql = qs.make('count_users', transactions_table=queryspace.TableName('transactions'))\n",
    "print(sql)"
   ]
  },
  {
   "cell_type": "code",
   "execution_count": null,
   "metadata": {},
   "outputs": [],
   "source": []
  }
 ],
 "metadata": {
  "kernelspec": {
   "display_name": "Python 3",
   "language": "python",
   "name": "python3"
  },
  "language_info": {
   "codemirror_mode": {
    "name": "ipython",
    "version": 3
   },
   "file_extension": ".py",
   "mimetype": "text/x-python",
   "name": "python",
   "nbconvert_exporter": "python",
   "pygments_lexer": "ipython3",
   "version": "3.6.8"
  }
 },
 "nbformat": 4,
 "nbformat_minor": 4
}
